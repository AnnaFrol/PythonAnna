{
 "cells": [
  {
   "cell_type": "markdown",
   "id": "4d3d253e",
   "metadata": {},
   "source": [
    "# Задача 1. Налоги"
   ]
  },
  {
   "cell_type": "code",
   "execution_count": 1,
   "id": "44c517c3",
   "metadata": {},
   "outputs": [
    {
     "ename": "ModuleNotFoundError",
     "evalue": "No module named 'tax'",
     "output_type": "error",
     "traceback": [
      "\u001b[1;31m---------------------------------------------------------------------------\u001b[0m",
      "\u001b[1;31mModuleNotFoundError\u001b[0m                       Traceback (most recent call last)",
      "Input \u001b[1;32mIn [1]\u001b[0m, in \u001b[0;36m<cell line: 1>\u001b[1;34m()\u001b[0m\n\u001b[1;32m----> 1\u001b[0m \u001b[38;5;28;01mfrom\u001b[39;00m \u001b[38;5;21;01mtax\u001b[39;00m \u001b[38;5;28;01mimport\u001b[39;00m Property, Apartment, Car, CountryHouse\n\u001b[0;32m      2\u001b[0m summ \u001b[38;5;241m=\u001b[39m \u001b[38;5;241m0\u001b[39m\n\u001b[0;32m      3\u001b[0m money \u001b[38;5;241m=\u001b[39m \u001b[38;5;28mint\u001b[39m(\u001b[38;5;28minput\u001b[39m(\u001b[38;5;124m'\u001b[39m\u001b[38;5;124mКакой суммой вы располагаете? \u001b[39m\u001b[38;5;124m'\u001b[39m))\n",
      "\u001b[1;31mModuleNotFoundError\u001b[0m: No module named 'tax'"
     ]
    }
   ],
   "source": [
    "from tax import Property, Apartment, Car, CountryHouse\n",
    "summ = 0\n",
    "money = int(input('Какой суммой вы располагаете? '))\n",
    "ans = input('Есть ли у вас квартира? ').lower()\n",
    "if ans == 'да':\n",
    "    worthh = int(input('Введите стоимость вашей квартиры: '))\n",
    "    home = Apartment(worthh)\n",
    "    print('Налог на квартиру:', home.tax())\n",
    "    summ += home.tax()\n",
    "ans = input('Есть ли у вас машина? ').lower()\n",
    "if ans == 'да':\n",
    "    worthc = int(input('Введите стоимость вашей машины: '))\n",
    "    car = Car(worthc)\n",
    "    print('Налог на машину:', car.tax())\n",
    "    summ += car.tax()\n",
    "ans = input('Есть ли у вас дача? ').lower()\n",
    "if ans == 'да':\n",
    "    worthd = int(input('Введите стоимость вашей дачи: '))\n",
    "    dacha = CountryHouse(worthd)\n",
    "    print('Налог на дачу:', dacha.tax())\n",
    "    summ += dacha.tax()\n",
    "if money >= summ:\n",
    "    print('Вы можете оплатить налоги')\n",
    "else:\n",
    "    print('Вам не хватает столько рублей: ', summ - money)"
   ]
  },
  {
   "cell_type": "code",
   "execution_count": null,
   "id": "226aa639",
   "metadata": {},
   "outputs": [],
   "source": []
  }
 ],
 "metadata": {
  "kernelspec": {
   "display_name": "Python 3 (ipykernel)",
   "language": "python",
   "name": "python3"
  },
  "language_info": {
   "codemirror_mode": {
    "name": "ipython",
    "version": 3
   },
   "file_extension": ".py",
   "mimetype": "text/x-python",
   "name": "python",
   "nbconvert_exporter": "python",
   "pygments_lexer": "ipython3",
   "version": "3.10.2"
  }
 },
 "nbformat": 4,
 "nbformat_minor": 5
}
