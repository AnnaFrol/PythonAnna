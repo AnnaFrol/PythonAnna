{
 "cells": [
  {
   "cell_type": "markdown",
   "id": "e9150f05",
   "metadata": {},
   "source": [
    "# Задача 1. Ревью кода"
   ]
  },
  {
   "cell_type": "code",
   "execution_count": 1,
   "id": "cdd02251",
   "metadata": {},
   "outputs": [
    {
     "name": "stdout",
     "output_type": "stream",
     "text": [
      "Bob Vazovski - 23\n",
      "Rob Stepanov - 24\n",
      "Alexander Krug - 22\n",
      "['biology, swimming', 'math', 'computer games', 'running', 'languages', 'health food'] 20\n"
     ]
    }
   ],
   "source": [
    "def fdict(dct):\n",
    "    fcounter = 0\n",
    "    finterests = []\n",
    "    for values in dct.values():\n",
    "        fcounter += len(values['surname'])\n",
    "        for sub in values['interests']:\n",
    "            finterests.append(sub)\n",
    "    return finterests, fcounter\n",
    "\n",
    "\n",
    "students = {\n",
    "    1: {\n",
    "        'name': 'Bob',\n",
    "        'surname': 'Vazovski',\n",
    "        'age': 23,\n",
    "        'interests': ['biology, swimming']\n",
    "    },\n",
    "    2: {\n",
    "        'name': 'Rob',\n",
    "        'surname': 'Stepanov',\n",
    "        'age': 24,\n",
    "        'interests': ['math', 'computer games', 'running']\n",
    "    },\n",
    "    3: {\n",
    "        'name': 'Alexander',\n",
    "        'surname': 'Krug',\n",
    "        'age': 22,\n",
    "        'interests': ['languages', 'health food']\n",
    "    }}\n",
    "[print(values['name'], values['surname'], '-', values['age']) for values in students.values()]\n",
    "interests, len_surnames = fdict(students)\n",
    "print(interests, len_surnames)"
   ]
  },
  {
   "cell_type": "markdown",
   "id": "b75c4e3a",
   "metadata": {},
   "source": [
    "# Задача 2. Универсальная программа"
   ]
  },
  {
   "cell_type": "code",
   "execution_count": 1,
   "id": "c3335ddc",
   "metadata": {},
   "outputs": [
    {
     "name": "stdout",
     "output_type": "stream",
     "text": [
      "[0, 1, 2, 3, 5, 7]\n"
     ]
    }
   ],
   "source": [
    "def fcrypt(smth):\n",
    "    return [smth[i] for i in range(len(smth)) if is_prime(i)]\n",
    "\n",
    "\n",
    "def is_prime(x):\n",
    "    simple_check = True\n",
    "    for i in range(2, x):\n",
    "        if x % i == 0:\n",
    "            simple_check = False\n",
    "            break\n",
    "    return simple_check\n",
    "\n",
    "\n",
    "cort = (0, 1, 2, 3, 4, 5, 6, 7, 8, 9)\n",
    "str_oka = '0123456789'\n",
    "lst = [0, 1, 2, 3, 4, 5, 6, 7, 8, 9]\n",
    "dct = {0: '0', 1: '1', 2: '2', 3: '3', 4: '4', 5: '5', 6: '6', 7: '7', 8: '8', 9: '9'}\n",
    "print(fcrypt(cort))"
   ]
  },
  {
   "cell_type": "markdown",
   "id": "019262bf",
   "metadata": {},
   "source": [
    "# Задача 3. Функция"
   ]
  },
  {
   "cell_type": "code",
   "execution_count": 4,
   "id": "cc423197",
   "metadata": {},
   "outputs": [
    {
     "name": "stdout",
     "output_type": "stream",
     "text": [
      "Введите элемент: 67\n",
      "(67, 4, 7, 0, 2, 3, 6)\n"
     ]
    }
   ],
   "source": [
    "def func(my_tuple, elem):\n",
    "    lst = list(my_tuple)\n",
    "    if elem.isdigit():\n",
    "        elem = int(elem)\n",
    "    if elem not in my_tuple:\n",
    "        new_tuple = ()\n",
    "    else:\n",
    "        index_start = 0\n",
    "        index_finish = len(lst) - 1\n",
    "        for i in range(len(lst)):\n",
    "            if lst[i] == elem:\n",
    "                index_start = i\n",
    "                for k in range(i, len(lst)):\n",
    "                    if lst[k] == elem:\n",
    "                        index_finish = k\n",
    "                break\n",
    "        if index_start == index_finish:\n",
    "            new_tuple = [my_tuple[i] for i in range(index_start, len(my_tuple))]\n",
    "        else:\n",
    "            new_tuple = [my_tuple[i] for i in range(index_start , index_finish + 1)]\n",
    "    return tuple(new_tuple)\n",
    "\n",
    "\n",
    "my_tuple = (2, 3, 4, 6, 1, 67, 4, 7, 0, 2, 3, 6)\n",
    "elem = input(\"Введите элемент: \")\n",
    "print(func(my_tuple, elem))"
   ]
  },
  {
   "cell_type": "markdown",
   "id": "9bd1f2e9",
   "metadata": {},
   "source": [
    "# Задача 4. Игроки"
   ]
  },
  {
   "cell_type": "code",
   "execution_count": 5,
   "id": "2eb7e220",
   "metadata": {},
   "outputs": [
    {
     "name": "stdout",
     "output_type": "stream",
     "text": [
      "[('Ivan', 'Volkin', 10, 5, 13), ('Bob', 'Robbin', 7, 5, 14), ('Rob', 'Bobbin', 12, 8, 2)]\n"
     ]
    }
   ],
   "source": [
    "players = {\n",
    "    (\"Ivan\", \"Volkin\"): (10, 5, 13),\n",
    "    (\"Bob\", \"Robbin\"): (7, 5, 14),\n",
    "    (\"Rob\", \"Bobbin\"): (12, 8, 2)\n",
    "}\n",
    "\n",
    "lst_new = [key + value for key, value in players.items()] \n",
    "print(lst_new)"
   ]
  },
  {
   "cell_type": "markdown",
   "id": "71724552",
   "metadata": {},
   "source": [
    "# Задача 5. Одна семья"
   ]
  },
  {
   "cell_type": "code",
   "execution_count": 6,
   "id": "1e8b0b07",
   "metadata": {},
   "outputs": [
    {
     "name": "stdout",
     "output_type": "stream",
     "text": [
      "Введите фамилию: Сидоров\n",
      "Сидоров Никита 35\n",
      "Сидорова Алина 34\n",
      "Сидоров Павел 10\n"
     ]
    }
   ],
   "source": [
    "my_dict = {\n",
    "    ('Сидоров', 'Никита'): 35,\n",
    "    ('Сидорова', 'Алина'): 34,\n",
    "    ('Сидоров', 'Павел'): 10,\n",
    "    ('Пономарев', 'Владимир'): 41,\n",
    "    ('Пономарева', 'Мария'): 40,\n",
    "    ('Пономарева', 'Анна'): 21,\n",
    "    ('Пономарева', 'Ксения'): 16,\n",
    "    ('Пономарева', 'Вера'): 0\n",
    "}\n",
    "\n",
    "s = input('Введите фамилию: ').lower()\n",
    "for surname in my_dict.keys():\n",
    "    if surname[0].lower() == s or (surname[0].lower()) == s + 'а' or (surname[0].lower()) == s[:-1]:\n",
    "        print(surname[0], surname[1], my_dict[surname])"
   ]
  },
  {
   "cell_type": "markdown",
   "id": "eb4c0a56",
   "metadata": {},
   "source": [
    "# Задача 6. По парам"
   ]
  },
  {
   "cell_type": "code",
   "execution_count": 7,
   "id": "812bbcf1",
   "metadata": {},
   "outputs": [
    {
     "name": "stdout",
     "output_type": "stream",
     "text": [
      "[(0, 1), (2, 3), (4, 5), (6, 7), (8, 9)]\n"
     ]
    }
   ],
   "source": [
    "lst = [0, 1, 2, 3, 4, 5, 6, 7, 8, 9]\n",
    "c_lst = []\n",
    "[c_lst.append((lst[i - 1], lst[i])) for i in range(len(lst)) if i % 2 == 1]\n",
    "print(c_lst)"
   ]
  },
  {
   "cell_type": "markdown",
   "id": "ebd3e091",
   "metadata": {},
   "source": [
    "# Задача 7. Функция сортировки"
   ]
  },
  {
   "cell_type": "code",
   "execution_count": 8,
   "id": "ea477ab6",
   "metadata": {},
   "outputs": [
    {
     "name": "stdout",
     "output_type": "stream",
     "text": [
      "[1, 12, 13, 45, 66]\n"
     ]
    }
   ],
   "source": [
    "tuple1 = (12, 1, 13, 66, 45)\n",
    "if all(isinstance(k, int) for k in tuple1):  \n",
    "    tuple1 = sorted(tuple1)\n",
    "print(tuple1)    "
   ]
  },
  {
   "cell_type": "markdown",
   "id": "42ecf6f0",
   "metadata": {},
   "source": [
    "# Задача 9. Протокол соревнований"
   ]
  },
  {
   "cell_type": "code",
   "execution_count": 9,
   "id": "acaa66b1",
   "metadata": {},
   "outputs": [
    {
     "name": "stdout",
     "output_type": "stream",
     "text": [
      "Сколько записей вносится в протокол? 9\n",
      "Записи (результат и имя):\n",
      "1 запись:69485 Jack\n",
      "2 запись:95715 qwerty\n",
      "3 запись:95715 Alex\n",
      "4 запись:83647 M\n",
      "5 запись:197128 qwerty\n",
      "6 запись:95715 Jack\n",
      "7 запись:93289 Alex\n",
      "8 запись:95715 Alex\n",
      "9 запись:95715 M\n",
      "Итоги соревнований:\n",
      "1 место. qwerty (197128)\n",
      "2 место. Alex (95715)\n",
      "3 место. Jack (95715)\n"
     ]
    }
   ],
   "source": [
    "def resball(a):\n",
    "    return a[1][1] - a[1][0] \n",
    "\n",
    "\n",
    "number = int(input('Сколько записей вносится в протокол? '))\n",
    "dict1 = {}\n",
    "print('Записи (результат и имя):')\n",
    "for k in range(number):\n",
    "    print(k+1, 'запись:', end='')\n",
    "    ball, name = input().split()\n",
    "    ball = int(ball)\n",
    "    if name not in dict1:\n",
    "        dict1[name] = [k+1, ball]\n",
    "    else:\n",
    "        if ball > dict1[name][1]:\n",
    "            dict1[name][0] = k+1\n",
    "            dict1[name][1] = ball       \n",
    "res = list(dict1.items())\n",
    "res.sort(key=resball, reverse=True)\n",
    "print('Итоги соревнований:')\n",
    "for i in range(3):\n",
    "    print(f'{i+1} место. {res[i][0]} ({res[i][1][1]})')"
   ]
  },
  {
   "cell_type": "markdown",
   "id": "94fff7be",
   "metadata": {},
   "source": [
    "# Задача 10. Своя функция zip \n"
   ]
  },
  {
   "cell_type": "code",
   "execution_count": null,
   "id": "112b572c",
   "metadata": {},
   "outputs": [],
   "source": []
  }
 ],
 "metadata": {
  "kernelspec": {
   "display_name": "Python 3 (ipykernel)",
   "language": "python",
   "name": "python3"
  },
  "language_info": {
   "codemirror_mode": {
    "name": "ipython",
    "version": 3
   },
   "file_extension": ".py",
   "mimetype": "text/x-python",
   "name": "python",
   "nbconvert_exporter": "python",
   "pygments_lexer": "ipython3",
   "version": "3.10.2"
  }
 },
 "nbformat": 4,
 "nbformat_minor": 5
}
