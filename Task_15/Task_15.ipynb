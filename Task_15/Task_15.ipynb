{
 "cells": [
  {
   "cell_type": "markdown",
   "id": "e9150f05",
   "metadata": {},
   "source": [
    "# Задача 1. Ревью кода"
   ]
  },
  {
   "cell_type": "code",
   "execution_count": 1,
   "id": "cdd02251",
   "metadata": {},
   "outputs": [
    {
     "name": "stdout",
     "output_type": "stream",
     "text": [
      "Bob Vazovski - 23\n",
      "Rob Stepanov - 24\n",
      "Alexander Krug - 22\n",
      "['biology, swimming', 'math', 'computer games', 'running', 'languages', 'health food'] 20\n"
     ]
    }
   ],
   "source": [
    "def fdict(dct):\n",
    "    fcounter = 0\n",
    "    finterests = []\n",
    "    for values in dct.values():\n",
    "        fcounter += len(values['surname'])\n",
    "        for sub in values['interests']:\n",
    "            finterests.append(sub)\n",
    "    return finterests, fcounter\n",
    "\n",
    "\n",
    "students = {\n",
    "    1: {\n",
    "        'name': 'Bob',\n",
    "        'surname': 'Vazovski',\n",
    "        'age': 23,\n",
    "        'interests': ['biology, swimming']\n",
    "    },\n",
    "    2: {\n",
    "        'name': 'Rob',\n",
    "        'surname': 'Stepanov',\n",
    "        'age': 24,\n",
    "        'interests': ['math', 'computer games', 'running']\n",
    "    },\n",
    "    3: {\n",
    "        'name': 'Alexander',\n",
    "        'surname': 'Krug',\n",
    "        'age': 22,\n",
    "        'interests': ['languages', 'health food']\n",
    "    }}\n",
    "[print(values['name'], values['surname'], '-', values['age']) for values in students.values()]\n",
    "interests, len_surnames = fdict(students)\n",
    "print(interests, len_surnames)"
   ]
  },
  {
   "cell_type": "markdown",
   "id": "b75c4e3a",
   "metadata": {},
   "source": [
    "# Задача 2. Универсальная программа"
   ]
  },
  {
   "cell_type": "code",
   "execution_count": null,
   "id": "c3335ddc",
   "metadata": {},
   "outputs": [],
   "source": []
  }
 ],
 "metadata": {
  "kernelspec": {
   "display_name": "Python 3 (ipykernel)",
   "language": "python",
   "name": "python3"
  },
  "language_info": {
   "codemirror_mode": {
    "name": "ipython",
    "version": 3
   },
   "file_extension": ".py",
   "mimetype": "text/x-python",
   "name": "python",
   "nbconvert_exporter": "python",
   "pygments_lexer": "ipython3",
   "version": "3.10.2"
  }
 },
 "nbformat": 4,
 "nbformat_minor": 5
}
