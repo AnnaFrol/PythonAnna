{
 "cells": [
  {
   "cell_type": "markdown",
   "id": "c902e4ee",
   "metadata": {},
   "source": [
    "# Задача 1. Имена "
   ]
  },
  {
   "cell_type": "code",
   "execution_count": 1,
   "id": "d6971822",
   "metadata": {},
   "outputs": [
    {
     "name": "stdout",
     "output_type": "stream",
     "text": [
      "27\n"
     ]
    }
   ],
   "source": [
    "line_counter = 1\n",
    "ltr_counter = 0\n",
    "line_lst = list()\n",
    "\n",
    "with open('C:/Users/Asus/Phyton6/people.TXT','r') as file:\n",
    "    for line in file:\n",
    "        ltr_counter += len(line.strip())\n",
    "        if len(line.strip()) < 3:\n",
    "            line_lst.append(line_counter)\n",
    "        line_counter += 1\n",
    "print(ltr_counter)\n",
    "with open('errors.log', 'w') as ouf:\n",
    "    [ouf.write(f'{str(i)}\\n') for i in line_lst]"
   ]
  },
  {
   "cell_type": "markdown",
   "id": "65966aa4",
   "metadata": {},
   "source": [
    "# Задача 2. Координаты"
   ]
  },
  {
   "cell_type": "code",
   "execution_count": 5,
   "id": "29b301e6",
   "metadata": {},
   "outputs": [
    {
     "ename": "TypeError",
     "evalue": "sequence item 0: expected str instance, float found",
     "output_type": "error",
     "traceback": [
      "\u001b[1;31m---------------------------------------------------------------------------\u001b[0m",
      "\u001b[1;31mTypeError\u001b[0m                                 Traceback (most recent call last)",
      "Input \u001b[1;32mIn [5]\u001b[0m, in \u001b[0;36m<cell line: 19>\u001b[1;34m()\u001b[0m\n\u001b[0;32m     23\u001b[0m     number \u001b[38;5;241m=\u001b[39m random\u001b[38;5;241m.\u001b[39mrandint(\u001b[38;5;241m0\u001b[39m, \u001b[38;5;241m100\u001b[39m)\n\u001b[0;32m     24\u001b[0m     my_list \u001b[38;5;241m=\u001b[39m \u001b[38;5;28msorted\u001b[39m([res1, res2, number])\n\u001b[1;32m---> 25\u001b[0m     file_2\u001b[38;5;241m.\u001b[39mwrite(\u001b[38;5;124;43m'\u001b[39;49m\u001b[38;5;124;43m \u001b[39;49m\u001b[38;5;124;43m'\u001b[39;49m\u001b[38;5;241;43m.\u001b[39;49m\u001b[43mjoin\u001b[49m\u001b[43m(\u001b[49m\u001b[43mmy_list\u001b[49m\u001b[43m)\u001b[49m)\n\u001b[0;32m     27\u001b[0m file_1\u001b[38;5;241m.\u001b[39mclose()\n\u001b[0;32m     28\u001b[0m file_2\u001b[38;5;241m.\u001b[39mclose()\n",
      "\u001b[1;31mTypeError\u001b[0m: sequence item 0: expected str instance, float found"
     ]
    }
   ],
   "source": [
    "import random\n",
    " \n",
    " \n",
    "def f(x, y):\n",
    "    x += random.randint(0, 10)\n",
    "    y += random.randint(0, 5)\n",
    "    return x / y\n",
    " \n",
    " \n",
    "def f2(x, y):\n",
    "    x -= random.randint(0, 10)\n",
    "    y -= random.randint(0, 5)\n",
    "    return y / x\n",
    " \n",
    " \n",
    "file_1 = open('C:/Users/Asus/Phyton6/coordinates.txt', 'r')\n",
    "file_2 = open('C:/Users/Asus/Phyton6/result.txt', 'w')\n",
    " \n",
    "for line in file_1:\n",
    "    nums_list = line.split()\n",
    "    res1 = f(int(nums_list[0]), int(nums_list[1]))\n",
    "    res2 = f2(int(nums_list[0]), int(nums_list[1]))\n",
    "    number = random.randint(0, 100)\n",
    "    my_list = sorted([res1, res2, number])\n",
    "    file_2.write(' '.join(my_list))\n",
    "    \n",
    "file_1.close()\n",
    "file_2.close()"
   ]
  },
  {
   "cell_type": "markdown",
   "id": "c9c12859",
   "metadata": {},
   "source": [
    "# Задача 3. Счастливое число"
   ]
  },
  {
   "cell_type": "code",
   "execution_count": null,
   "id": "9a3e79a0",
   "metadata": {},
   "outputs": [],
   "source": []
  },
  {
   "cell_type": "markdown",
   "id": "825f46bb",
   "metadata": {},
   "source": [
    "# Задача 4. Регистрация"
   ]
  },
  {
   "cell_type": "code",
   "execution_count": null,
   "id": "73e842ab",
   "metadata": {},
   "outputs": [],
   "source": []
  }
 ],
 "metadata": {
  "kernelspec": {
   "display_name": "Python 3 (ipykernel)",
   "language": "python",
   "name": "python3"
  },
  "language_info": {
   "codemirror_mode": {
    "name": "ipython",
    "version": 3
   },
   "file_extension": ".py",
   "mimetype": "text/x-python",
   "name": "python",
   "nbconvert_exporter": "python",
   "pygments_lexer": "ipython3",
   "version": "3.10.2"
  }
 },
 "nbformat": 4,
 "nbformat_minor": 5
}
