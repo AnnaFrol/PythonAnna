{
 "cells": [
  {
   "cell_type": "markdown",
   "id": "31ae6373",
   "metadata": {},
   "source": [
    "# hw_01"
   ]
  },
  {
   "cell_type": "code",
   "execution_count": 1,
   "id": "38be3206",
   "metadata": {},
   "outputs": [
    {
     "name": "stdout",
     "output_type": "stream",
     "text": [
      "1 2 3 4 5 6 7 8 9 10 11 12 13 14 15 16 17 18 19 20\n"
     ]
    }
   ],
   "source": [
    "def rec_list(n, l = []):\n",
    "    if len(l) < n:\n",
    "        l.append(len(l) + 1)\n",
    "        rec_list(n, l)\n",
    "    else:\n",
    "        return print(*l)\n",
    " \n",
    "rec_list(20)\n",
    "    "
   ]
  },
  {
   "cell_type": "code",
   "execution_count": null,
   "id": "f7251682",
   "metadata": {},
   "outputs": [],
   "source": []
  },
  {
   "cell_type": "markdown",
   "id": "099e58b5",
   "metadata": {},
   "source": [
    "# hw_02"
   ]
  },
  {
   "cell_type": "code",
   "execution_count": 8,
   "id": "3c0b7274",
   "metadata": {},
   "outputs": [
    {
     "name": "stdout",
     "output_type": "stream",
     "text": [
      "('a', 1)\n",
      "('b', 2)\n",
      "('c', 3)\n",
      "('d', 4)\n"
     ]
    }
   ],
   "source": [
    "def my_zip(ob1, ob2):\n",
    "    return [(ob1[i], ob2[i]) for i in range(min(len(ob1), len(ob2)))]\n",
    "\n",
    "\n",
    "str1 = 'abcd'\n",
    "cort = (1, 2, 3, 4, 5)\n",
    "# lst = my_zip(str1, cort)\n",
    "[print(j) for j in my_zip(str1, cort)];"
   ]
  },
  {
   "cell_type": "markdown",
   "id": "b8677430",
   "metadata": {},
   "source": [
    "# hw_03"
   ]
  },
  {
   "cell_type": "code",
   "execution_count": 7,
   "id": "f40ef5da",
   "metadata": {},
   "outputs": [
    {
     "name": "stdout",
     "output_type": "stream",
     "text": [
      "55\n"
     ]
    }
   ],
   "source": [
    "def fibonacci(n):\n",
    "    if n in (1, 2):\n",
    "        return 1\n",
    "    return fibonacci(n - 1) + fibonacci(n - 2)\n",
    "\n",
    "\n",
    "print(fibonacci(10))"
   ]
  },
  {
   "cell_type": "markdown",
   "id": "a957e3e3",
   "metadata": {},
   "source": [
    "# hw_04"
   ]
  },
  {
   "cell_type": "code",
   "execution_count": 6,
   "id": "9b10d270",
   "metadata": {},
   "outputs": [
    {
     "name": "stdout",
     "output_type": "stream",
     "text": [
      "Введите ключ:div\n",
      "Тут, наверное, какой-то блок\n"
     ]
    }
   ],
   "source": [
    "def search(dct, uk):\n",
    "    s = False\n",
    "    l_keys = [i for i in dct.keys()]\n",
    "    j = 0\n",
    "    if uk in l_keys:\n",
    "        s = dct[uk]\n",
    "    else:\n",
    "        while not s and j < len(l_keys):\n",
    "            if isinstance(dct[l_keys[j]], dict):\n",
    "                s = search(dct[l_keys[j]], uk)\n",
    "            j += 1\n",
    "    return s\n",
    "\n",
    "\n",
    "site = {\n",
    "    'html': {\n",
    "        'head': {\n",
    "            'title': 'Мой сайт'\n",
    "        },\n",
    "        'body': {\n",
    "            'h2': 'Здесь будет мой заголовок',\n",
    "            'div': 'Тут, наверное, какой-то блок',\n",
    "            'p': 'А вот здесь новый абзац'\n",
    "        }\n",
    "    }\n",
    "}\n",
    "user_key = input('Введите ключ:')\n",
    "print(search(site, user_key))"
   ]
  },
  {
   "cell_type": "markdown",
   "id": "50b7eabd",
   "metadata": {},
   "source": [
    "# hw_05"
   ]
  },
  {
   "cell_type": "code",
   "execution_count": 2,
   "id": "a687a5ea",
   "metadata": {},
   "outputs": [
    {
     "name": "stdout",
     "output_type": "stream",
     "text": [
      "0.6648326359915008\n"
     ]
    }
   ],
   "source": [
    "def calculating_math_func(num):\n",
    "    return (factorial_dct(num) / num ** 3) ** 10\n",
    "\n",
    "\n",
    "def factorial_dct(num, dct={}):\n",
    "    if num <= 1:\n",
    "        return 1\n",
    "    else:\n",
    "        if dct.get(num) is None:\n",
    "            dct[num] = num * factorial_dct(num - 1, dct)\n",
    "        return dct[num]\n",
    "\n",
    "\n",
    "print(calculating_math_func(5))"
   ]
  },
  {
   "cell_type": "markdown",
   "id": "20a3346d",
   "metadata": {},
   "source": [
    "# hw_06"
   ]
  },
  {
   "cell_type": "code",
   "execution_count": null,
   "id": "67adc6d1",
   "metadata": {},
   "outputs": [],
   "source": []
  },
  {
   "cell_type": "markdown",
   "id": "b7198373",
   "metadata": {},
   "source": [
    "# hw_07"
   ]
  },
  {
   "cell_type": "code",
   "execution_count": 3,
   "id": "4ab29f28",
   "metadata": {},
   "outputs": [
    {
     "name": "stdout",
     "output_type": "stream",
     "text": [
      "10\n"
     ]
    }
   ],
   "source": [
    "def sum_(lst):\n",
    "    s = 0\n",
    "    for i in lst:\n",
    "        if type(i) == list:\n",
    "            s += sum_(i)\n",
    "        else:\n",
    "            s += i\n",
    "    return s\n",
    "\n",
    "\n",
    "print(sum_([[1, 2, [3]], [1], 3]))"
   ]
  },
  {
   "cell_type": "markdown",
   "id": "00880636",
   "metadata": {},
   "source": [
    "# hw_08"
   ]
  },
  {
   "cell_type": "code",
   "execution_count": 5,
   "id": "82172c41",
   "metadata": {},
   "outputs": [
    {
     "name": "stdout",
     "output_type": "stream",
     "text": [
      "[1, 2, 3, 4, 5, 6, 7, 8, 9, 10, 11, 12, 13, 14, 15, 16, 17, 18]\n"
     ]
    }
   ],
   "source": [
    "def unboxing(lst):\n",
    "    s = list()\n",
    "    for i in lst:\n",
    "        if type(i) == list:\n",
    "            s.extend(unboxing(i))\n",
    "        else:\n",
    "            s.append(i)\n",
    "    return s\n",
    "\n",
    "\n",
    "nice_list = [1, 2, [3, 4], [[5, 6, 7], [8, 9, 10]], [[11, 12, 13], [14, 15], [16, 17, 18]]]\n",
    "print(unboxing(nice_list))"
   ]
  },
  {
   "cell_type": "markdown",
   "id": "160d83f6",
   "metadata": {},
   "source": [
    "# hw_09"
   ]
  },
  {
   "cell_type": "code",
   "execution_count": null,
   "id": "17fc389d",
   "metadata": {},
   "outputs": [],
   "source": []
  }
 ],
 "metadata": {
  "kernelspec": {
   "display_name": "Python 3 (ipykernel)",
   "language": "python",
   "name": "python3"
  },
  "language_info": {
   "codemirror_mode": {
    "name": "ipython",
    "version": 3
   },
   "file_extension": ".py",
   "mimetype": "text/x-python",
   "name": "python",
   "nbconvert_exporter": "python",
   "pygments_lexer": "ipython3",
   "version": "3.10.2"
  }
 },
 "nbformat": 4,
 "nbformat_minor": 5
}
